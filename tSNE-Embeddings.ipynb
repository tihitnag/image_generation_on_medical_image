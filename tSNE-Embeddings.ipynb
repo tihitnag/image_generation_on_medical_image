{
 "cells": [
  {
   "cell_type": "markdown",
   "id": "8270b589",
   "metadata": {},
   "source": [
    "### Embedding Visualization"
   ]
  },
  {
   "cell_type": "code",
   "execution_count": null,
   "id": "71b327c9",
   "metadata": {
    "tags": []
   },
   "outputs": [],
   "source": [
    "import numpy as np\n",
    "from glob import iglob\n",
    "from PIL import Image\n",
    "import torch\n",
    "from sklearn.manifold import TSNE"
   ]
  },
  {
   "cell_type": "code",
   "execution_count": null,
   "id": "a01a4927",
   "metadata": {
    "tags": []
   },
   "outputs": [],
   "source": [
    "tsne = TSNE(random_state=1, n_components=2,  n_iter=15000, metric=\"euclidean\", init=\"pca\")"
   ]
  },
  {
   "cell_type": "code",
   "execution_count": null,
   "id": "459e84da-c50e-4f35-861d-73de71ed4443",
   "metadata": {
    "tags": []
   },
   "outputs": [],
   "source": [
    "# test_images = [os.path.join(\"../data/KL01_GAN/all/img/\", x) for x in os.listdir(\"../data/KL01_GAN/all/img/\")]\n",
    "# fake_images = list(iglob(\"JAMIA_GAN_KL01_Synthetic_100shot/eval_11000/img/**\"))\n",
    "\n",
    "test_images = list(iglob(\"../data/KL234_GAN/all/img/**\"))\n",
    "fake_images = list(iglob(\"../data/KL234/**\"))"
   ]
  },
  {
   "cell_type": "code",
   "execution_count": null,
   "id": "97c45ef4-3142-4a62-86d0-fbf2087e4e35",
   "metadata": {
    "tags": []
   },
   "outputs": [],
   "source": [
    "fake_sample = np.random.choice(fake_images, len(test_images))"
   ]
  },
  {
   "cell_type": "code",
   "execution_count": null,
   "id": "d6d80c7f-3431-43c8-82bd-236402b8e9aa",
   "metadata": {
    "tags": []
   },
   "outputs": [],
   "source": [
    "flattened_test = []\n",
    "flattened_fake = []\n",
    "for i in range(len(test_images)):\n",
    "    real = Image.open(test_images[i]).convert(\"L\")\n",
    "    fake = Image.open(fake_sample[i]).convert(\"L\")\n",
    "    if real.size != (224, 224):\n",
    "        real = real.resize((224, 224))\n",
    "    if fake.size != (224, 224):\n",
    "        fake = fake.resize((224, 224))\n",
    "    real = np.array(real).flatten()\n",
    "    fake = np.array(fake).flatten()\n",
    "    flattened_test.append(real)\n",
    "    flattened_fake.append(fake)"
   ]
  },
  {
   "cell_type": "code",
   "execution_count": null,
   "id": "b45330c5-2db6-47fe-84d9-337f41452d0a",
   "metadata": {
    "tags": []
   },
   "outputs": [],
   "source": [
    "train_labels = [\"REAL\"] * len(test_images)\n",
    "test_labels = [\"FAKE\"] *len(test_images)"
   ]
  },
  {
   "cell_type": "code",
   "execution_count": null,
   "id": "d48d3a7b-55e5-4a0a-8aaf-6a64b3a36a15",
   "metadata": {
    "tags": []
   },
   "outputs": [],
   "source": []
  },
  {
   "cell_type": "code",
   "execution_count": null,
   "id": "922be468",
   "metadata": {
    "tags": []
   },
   "outputs": [],
   "source": [
    "train_embeds = tsne.fit_transform(np.array(flattened_test))"
   ]
  },
  {
   "cell_type": "code",
   "execution_count": null,
   "id": "ab69c7c2",
   "metadata": {
    "tags": []
   },
   "outputs": [],
   "source": [
    "# tsne = TSNE(random_state=1, n_iter=15000, metric=\"cosine\")\n",
    "test_embeds = tsne.fit_transform(np.array(flattened_fake))"
   ]
  },
  {
   "cell_type": "code",
   "execution_count": null,
   "id": "95183488",
   "metadata": {
    "tags": []
   },
   "outputs": [],
   "source": [
    "stacked = np.vstack((train_embeds, test_embeds))"
   ]
  },
  {
   "cell_type": "code",
   "execution_count": null,
   "id": "8d33257d",
   "metadata": {
    "tags": []
   },
   "outputs": [],
   "source": [
    "import plotly.express as px\n",
    "\n",
    "import matplotlib.pyplot as plt\n",
    "fig = px.scatter(stacked, x=0, y=1, color=train_labels + test_labels)\n",
    "fig.show()"
   ]
  },
  {
   "cell_type": "code",
   "execution_count": null,
   "id": "4d762112-3fbb-403d-a02f-e2336f7514ac",
   "metadata": {},
   "outputs": [],
   "source": []
  }
 ],
 "metadata": {
  "kernelspec": {
   "display_name": "Python 3 (ipykernel)",
   "language": "python",
   "name": "python3"
  },
  "language_info": {
   "codemirror_mode": {
    "name": "ipython",
    "version": 3
   },
   "file_extension": ".py",
   "mimetype": "text/x-python",
   "name": "python",
   "nbconvert_exporter": "python",
   "pygments_lexer": "ipython3",
   "version": "3.11.4"
  }
 },
 "nbformat": 4,
 "nbformat_minor": 5
}
